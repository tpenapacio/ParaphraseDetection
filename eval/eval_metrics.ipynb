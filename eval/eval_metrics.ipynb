{
 "cells": [
  {
   "cell_type": "code",
   "execution_count": 7,
   "metadata": {},
   "outputs": [],
   "source": [
    "import pandas as pd\n",
    "from sklearn.metrics import precision_recall_fscore_support, accuracy_score"
   ]
  },
  {
   "cell_type": "code",
   "execution_count": 2,
   "metadata": {},
   "outputs": [],
   "source": [
    "preds = pd.read_csv('preds')"
   ]
  },
  {
   "cell_type": "code",
   "execution_count": 3,
   "metadata": {},
   "outputs": [
    {
     "data": {
      "text/html": [
       "<div>\n",
       "<style scoped>\n",
       "    .dataframe tbody tr th:only-of-type {\n",
       "        vertical-align: middle;\n",
       "    }\n",
       "\n",
       "    .dataframe tbody tr th {\n",
       "        vertical-align: top;\n",
       "    }\n",
       "\n",
       "    .dataframe thead th {\n",
       "        text-align: right;\n",
       "    }\n",
       "</style>\n",
       "<table border=\"1\" class=\"dataframe\">\n",
       "  <thead>\n",
       "    <tr style=\"text-align: right;\">\n",
       "      <th></th>\n",
       "      <th>Unnamed: 0</th>\n",
       "      <th>input</th>\n",
       "      <th>output</th>\n",
       "      <th>label</th>\n",
       "      <th>prediction</th>\n",
       "    </tr>\n",
       "  </thead>\n",
       "  <tbody>\n",
       "    <tr>\n",
       "      <th>0</th>\n",
       "      <td>0</td>\n",
       "      <td>Given an email, classify it as important or no...</td>\n",
       "      <td>Discount amount: $50</td>\n",
       "      <td>0</td>\n",
       "      <td>0</td>\n",
       "    </tr>\n",
       "    <tr>\n",
       "      <th>1</th>\n",
       "      <td>1</td>\n",
       "      <td>Calculate the discounted price for an item giv...</td>\n",
       "      <td>Discounted price: $80</td>\n",
       "      <td>1</td>\n",
       "      <td>1</td>\n",
       "    </tr>\n",
       "    <tr>\n",
       "      <th>2</th>\n",
       "      <td>2</td>\n",
       "      <td>Set a specific and achievable goal for self-im...</td>\n",
       "      <td>Documento: Este es un documento de muestra par...</td>\n",
       "      <td>0</td>\n",
       "      <td>0</td>\n",
       "    </tr>\n",
       "    <tr>\n",
       "      <th>3</th>\n",
       "      <td>3</td>\n",
       "      <td>Calculate the discounted price for an item giv...</td>\n",
       "      <td>I suggest visiting Kyoto, Japan. Known for its...</td>\n",
       "      <td>0</td>\n",
       "      <td>0</td>\n",
       "    </tr>\n",
       "    <tr>\n",
       "      <th>4</th>\n",
       "      <td>4</td>\n",
       "      <td>Recommend a podcast to a person based on their...</td>\n",
       "      <td>Day 1: Arrive in London. Check into your hotel...</td>\n",
       "      <td>0</td>\n",
       "      <td>0</td>\n",
       "    </tr>\n",
       "    <tr>\n",
       "      <th>...</th>\n",
       "      <td>...</td>\n",
       "      <td>...</td>\n",
       "      <td>...</td>\n",
       "      <td>...</td>\n",
       "      <td>...</td>\n",
       "    </tr>\n",
       "    <tr>\n",
       "      <th>95</th>\n",
       "      <td>95</td>\n",
       "      <td>Recommend a romantic movie for a cozy night in.</td>\n",
       "      <td>Poem Translation: 'La route non prise' de Robe...</td>\n",
       "      <td>0</td>\n",
       "      <td>0</td>\n",
       "    </tr>\n",
       "    <tr>\n",
       "      <th>96</th>\n",
       "      <td>96</td>\n",
       "      <td>Calculate the amount of discount for an item g...</td>\n",
       "      <td>important</td>\n",
       "      <td>0</td>\n",
       "      <td>0</td>\n",
       "    </tr>\n",
       "    <tr>\n",
       "      <th>97</th>\n",
       "      <td>97</td>\n",
       "      <td>Write a program to calculate the area of a cir...</td>\n",
       "      <td>I recommend visiting Yosemite National Park. I...</td>\n",
       "      <td>0</td>\n",
       "      <td>0</td>\n",
       "    </tr>\n",
       "    <tr>\n",
       "      <th>98</th>\n",
       "      <td>98</td>\n",
       "      <td>Translate the following document from English ...</td>\n",
       "      <td>Documento: Este es un documento de muestra par...</td>\n",
       "      <td>1</td>\n",
       "      <td>1</td>\n",
       "    </tr>\n",
       "    <tr>\n",
       "      <th>99</th>\n",
       "      <td>99</td>\n",
       "      <td>Calculate the volume of a cylinder given its r...</td>\n",
       "      <td>Volume: 785.3981634 cubic units</td>\n",
       "      <td>1</td>\n",
       "      <td>1</td>\n",
       "    </tr>\n",
       "  </tbody>\n",
       "</table>\n",
       "<p>100 rows × 5 columns</p>\n",
       "</div>"
      ],
      "text/plain": [
       "    Unnamed: 0                                              input  \\\n",
       "0            0  Given an email, classify it as important or no...   \n",
       "1            1  Calculate the discounted price for an item giv...   \n",
       "2            2  Set a specific and achievable goal for self-im...   \n",
       "3            3  Calculate the discounted price for an item giv...   \n",
       "4            4  Recommend a podcast to a person based on their...   \n",
       "..         ...                                                ...   \n",
       "95          95    Recommend a romantic movie for a cozy night in.   \n",
       "96          96  Calculate the amount of discount for an item g...   \n",
       "97          97  Write a program to calculate the area of a cir...   \n",
       "98          98  Translate the following document from English ...   \n",
       "99          99  Calculate the volume of a cylinder given its r...   \n",
       "\n",
       "                                               output  label  prediction  \n",
       "0                                Discount amount: $50      0           0  \n",
       "1                               Discounted price: $80      1           1  \n",
       "2   Documento: Este es un documento de muestra par...      0           0  \n",
       "3   I suggest visiting Kyoto, Japan. Known for its...      0           0  \n",
       "4   Day 1: Arrive in London. Check into your hotel...      0           0  \n",
       "..                                                ...    ...         ...  \n",
       "95  Poem Translation: 'La route non prise' de Robe...      0           0  \n",
       "96                                          important      0           0  \n",
       "97  I recommend visiting Yosemite National Park. I...      0           0  \n",
       "98  Documento: Este es un documento de muestra par...      1           1  \n",
       "99                    Volume: 785.3981634 cubic units      1           1  \n",
       "\n",
       "[100 rows x 5 columns]"
      ]
     },
     "execution_count": 3,
     "metadata": {},
     "output_type": "execute_result"
    }
   ],
   "source": [
    "preds"
   ]
  },
  {
   "cell_type": "code",
   "execution_count": 6,
   "metadata": {},
   "outputs": [
    {
     "data": {
      "text/plain": [
       "(0.9545454545454546, 0.95, 0.949874686716792, None)"
      ]
     },
     "execution_count": 6,
     "metadata": {},
     "output_type": "execute_result"
    }
   ],
   "source": [
    "precision_recall_fscore_support(preds['label'], preds['prediction'], average='macro')"
   ]
  },
  {
   "cell_type": "code",
   "execution_count": 8,
   "metadata": {},
   "outputs": [
    {
     "data": {
      "text/plain": [
       "0.95"
      ]
     },
     "execution_count": 8,
     "metadata": {},
     "output_type": "execute_result"
    }
   ],
   "source": [
    "accuracy_score(preds['label'], preds['prediction'])"
   ]
  },
  {
   "cell_type": "code",
   "execution_count": null,
   "metadata": {},
   "outputs": [],
   "source": []
  }
 ],
 "metadata": {
  "kernelspec": {
   "display_name": "Python 3 (ipykernel)",
   "language": "python",
   "name": "python3"
  },
  "language_info": {
   "codemirror_mode": {
    "name": "ipython",
    "version": 3
   },
   "file_extension": ".py",
   "mimetype": "text/x-python",
   "name": "python",
   "nbconvert_exporter": "python",
   "pygments_lexer": "ipython3",
   "version": "3.7.6"
  }
 },
 "nbformat": 4,
 "nbformat_minor": 4
}
